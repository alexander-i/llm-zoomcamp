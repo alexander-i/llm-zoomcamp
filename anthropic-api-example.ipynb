{
 "cells": [
  {
   "cell_type": "code",
   "execution_count": 1,
   "id": "bc2a2daa-cf7b-49e1-a091-8bbdef381c07",
   "metadata": {},
   "outputs": [],
   "source": [
    "import os\n",
    "from anthropic import Anthropic"
   ]
  },
  {
   "cell_type": "code",
   "execution_count": 2,
   "id": "f33f47ca-8a6b-4958-820b-7a1a53740fec",
   "metadata": {},
   "outputs": [],
   "source": [
    "client = Anthropic(\n",
    "    api_key=os.environ.get(\"ANTHROPIC_API_KEY\"),  # This is the default and can be omitted\n",
    ")"
   ]
  },
  {
   "cell_type": "code",
   "execution_count": 3,
   "id": "c0610531-d22f-4e53-b2a3-7f3e21da2866",
   "metadata": {},
   "outputs": [
    {
     "name": "stdout",
     "output_type": "stream",
     "text": [
      "[TextBlock(citations=None, text=\"I apologize, but I do not see any previous context about a specific course. Without more information about which course you are referring to, I cannot determine whether it is too late to join. If you'd like to know about joining a course, I recommend:\\n\\n1. Checking the course registration deadlines\\n2. Contacting the course administrator or instructor directly\\n3. Reviewing the course syllabus or registration information\", type='text')]\n"
     ]
    }
   ],
   "source": [
    "message = client.messages.create(\n",
    "    max_tokens=1024,\n",
    "    messages=[\n",
    "        {\n",
    "            \"role\": \"user\",\n",
    "            \"content\": \"Is it too late to join the course?\",\n",
    "        }\n",
    "    ],\n",
    "    model=\"claude-3-5-haiku-latest\",\n",
    ")\n",
    "print(message.content)"
   ]
  },
  {
   "cell_type": "code",
   "execution_count": 4,
   "id": "9613f118-fdc1-4865-b72a-1093651c0774",
   "metadata": {},
   "outputs": [
    {
     "data": {
      "text/plain": [
       "TextBlock(citations=None, text=\"I apologize, but I do not see any previous context about a specific course. Without more information about which course you are referring to, I cannot determine whether it is too late to join. If you'd like to know about joining a course, I recommend:\\n\\n1. Checking the course registration deadlines\\n2. Contacting the course administrator or instructor directly\\n3. Reviewing the course syllabus or registration information\", type='text')"
      ]
     },
     "execution_count": 4,
     "metadata": {},
     "output_type": "execute_result"
    }
   ],
   "source": [
    "message.content[0]"
   ]
  }
 ],
 "metadata": {
  "kernelspec": {
   "display_name": "Python 3",
   "language": "python",
   "name": "python3"
  },
  "language_info": {
   "codemirror_mode": {
    "name": "ipython",
    "version": 3
   },
   "file_extension": ".py",
   "mimetype": "text/x-python",
   "name": "python",
   "nbconvert_exporter": "python",
   "pygments_lexer": "ipython3",
   "version": "3.12.1"
  }
 },
 "nbformat": 4,
 "nbformat_minor": 5
}
